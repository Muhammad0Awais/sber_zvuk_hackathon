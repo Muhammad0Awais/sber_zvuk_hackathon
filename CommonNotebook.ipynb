{
  "nbformat": 4,
  "nbformat_minor": 0,
  "metadata": {
    "colab": {
      "provenance": [],
      "collapsed_sections": [],
      "mount_file_id": "1hzeyXbjAXYuqRMmPi0wHdvADVwukOttV",
      "authorship_tag": "ABX9TyPBWEb1KId+xqoE86PGg4vS",
      "include_colab_link": true
    },
    "kernelspec": {
      "name": "python3",
      "display_name": "Python 3"
    },
    "language_info": {
      "name": "python"
    }
  },
  "cells": [
    {
      "cell_type": "markdown",
      "metadata": {
        "id": "view-in-github",
        "colab_type": "text"
      },
      "source": [
        "<a href=\"https://colab.research.google.com/github/Muhammad0Awais/sber_zvuk_hackathon/blob/main/CommonNotebook.ipynb\" target=\"_parent\"><img src=\"https://colab.research.google.com/assets/colab-badge.svg\" alt=\"Open In Colab\"/></a>"
      ]
    },
    {
      "cell_type": "code",
      "metadata": {
        "id": "-uDSk9qFMf08"
      },
      "source": [
        "HomeAddresses = \"/content/drive/MyDrive/hackathon/photoContent/Адрес_дома\""
      ],
      "execution_count": null,
      "outputs": []
    },
    {
      "cell_type": "code",
      "metadata": {
        "colab": {
          "base_uri": "https://localhost:8080/"
        },
        "id": "JB_D0GI9a-yp",
        "outputId": "5146efe7-c992-433a-a06d-2f3102a467c6"
      },
      "source": [
        "!sudo apt install tesseract-ocr\n",
        "!pip install pytesseract"
      ],
      "execution_count": null,
      "outputs": [
        {
          "output_type": "stream",
          "text": [
            "Reading package lists... Done\n",
            "Building dependency tree       \n",
            "Reading state information... Done\n",
            "The following additional packages will be installed:\n",
            "  tesseract-ocr-eng tesseract-ocr-osd\n",
            "The following NEW packages will be installed:\n",
            "  tesseract-ocr tesseract-ocr-eng tesseract-ocr-osd\n",
            "0 upgraded, 3 newly installed, 0 to remove and 39 not upgraded.\n",
            "Need to get 4,795 kB of archives.\n",
            "After this operation, 15.8 MB of additional disk space will be used.\n",
            "Get:1 http://archive.ubuntu.com/ubuntu bionic/universe amd64 tesseract-ocr-eng all 4.00~git24-0e00fe6-1.2 [1,588 kB]\n",
            "Get:2 http://archive.ubuntu.com/ubuntu bionic/universe amd64 tesseract-ocr-osd all 4.00~git24-0e00fe6-1.2 [2,989 kB]\n",
            "Get:3 http://archive.ubuntu.com/ubuntu bionic/universe amd64 tesseract-ocr amd64 4.00~git2288-10f4998a-2 [218 kB]\n",
            "Fetched 4,795 kB in 2s (2,923 kB/s)\n",
            "debconf: unable to initialize frontend: Dialog\n",
            "debconf: (No usable dialog-like program is installed, so the dialog based frontend cannot be used. at /usr/share/perl5/Debconf/FrontEnd/Dialog.pm line 76, <> line 3.)\n",
            "debconf: falling back to frontend: Readline\n",
            "debconf: unable to initialize frontend: Readline\n",
            "debconf: (This frontend requires a controlling tty.)\n",
            "debconf: falling back to frontend: Teletype\n",
            "dpkg-preconfigure: unable to re-open stdin: \n",
            "Selecting previously unselected package tesseract-ocr-eng.\n",
            "(Reading database ... 160772 files and directories currently installed.)\n",
            "Preparing to unpack .../tesseract-ocr-eng_4.00~git24-0e00fe6-1.2_all.deb ...\n",
            "Unpacking tesseract-ocr-eng (4.00~git24-0e00fe6-1.2) ...\n",
            "Selecting previously unselected package tesseract-ocr-osd.\n",
            "Preparing to unpack .../tesseract-ocr-osd_4.00~git24-0e00fe6-1.2_all.deb ...\n",
            "Unpacking tesseract-ocr-osd (4.00~git24-0e00fe6-1.2) ...\n",
            "Selecting previously unselected package tesseract-ocr.\n",
            "Preparing to unpack .../tesseract-ocr_4.00~git2288-10f4998a-2_amd64.deb ...\n",
            "Unpacking tesseract-ocr (4.00~git2288-10f4998a-2) ...\n",
            "Setting up tesseract-ocr-osd (4.00~git24-0e00fe6-1.2) ...\n",
            "Setting up tesseract-ocr-eng (4.00~git24-0e00fe6-1.2) ...\n",
            "Setting up tesseract-ocr (4.00~git2288-10f4998a-2) ...\n",
            "Processing triggers for man-db (2.8.3-2ubuntu0.1) ...\n",
            "Requirement already satisfied: pytesseract in /usr/local/lib/python3.7/dist-packages (0.3.7)\n",
            "Requirement already satisfied: Pillow in /usr/local/lib/python3.7/dist-packages (from pytesseract) (7.1.2)\n"
          ],
          "name": "stdout"
        }
      ]
    },
    {
      "cell_type": "code",
      "metadata": {
        "id": "t99pMOgGaXU0"
      },
      "source": [
        "# import the necessary packages\n",
        "from PIL import Image\n",
        "import pytesseract\n",
        "import argparse\n",
        "import cv2\n",
        "import os"
      ],
      "execution_count": null,
      "outputs": []
    },
    {
      "cell_type": "code",
      "metadata": {
        "colab": {
          "base_uri": "https://localhost:8080/"
        },
        "id": "-h3lfRd_au46",
        "outputId": "7ebc7140-76b7-4e16-e566-de07cb4882de"
      },
      "source": [
        "imagePath = \"/content/loll.png\"\n",
        "# load the example image and convert it to grayscale\n",
        "image = cv2.imread(imagePath)\n",
        "gray = cv2.cvtColor(image, cv2.COLOR_BGR2GRAY)\n",
        "# check to see if we should apply thresholding to preprocess the\n",
        "# image\n",
        "if True:\n",
        "\tgray = cv2.threshold(gray, 0, 255,\n",
        "\t\tcv2.THRESH_BINARY | cv2.THRESH_OTSU)[1]\n",
        "# make a check to see if median blurring should be done to remove\n",
        "# noise\n",
        "# elif args[\"preprocess\"] == \"blur\":\n",
        "# \tgray = cv2.medianBlur(gray, 3)\n",
        "# write the grayscale image to disk as a temporary file so we can\n",
        "# apply OCR to it\n",
        "filename = \"{}.png\".format(os.getpid())\n",
        "cv2.imwrite(filename, gray)\n"
      ],
      "execution_count": null,
      "outputs": [
        {
          "output_type": "execute_result",
          "data": {
            "text/plain": [
              "True"
            ]
          },
          "metadata": {
            "tags": []
          },
          "execution_count": 22
        }
      ]
    },
    {
      "cell_type": "code",
      "metadata": {
        "colab": {
          "base_uri": "https://localhost:8080/"
        },
        "id": "OcVKlbm6iPDB",
        "outputId": "ff0265ee-ca5b-4a19-ba56-c6c9be74cee6"
      },
      "source": [
        "# Get bounding box estimates\n",
        "print(pytesseract.image_to_boxes(Image.open(image_path_in_colab)))"
      ],
      "execution_count": null,
      "outputs": [
        {
          "output_type": "stream",
          "text": [
            "~ 88 55 258 306 0\n",
            "\n"
          ],
          "name": "stdout"
        }
      ]
    },
    {
      "cell_type": "code",
      "metadata": {
        "colab": {
          "base_uri": "https://localhost:8080/",
          "height": 640
        },
        "id": "qYYuNeRVcPNH",
        "outputId": "e20c8abc-768e-43b3-e502-bf6f013ae716"
      },
      "source": [
        "from google.colab.patches import cv2_imshow\n",
        "# load the image as a PIL/Pillow image, apply OCR, and then delete\n",
        "# the temporary file\n",
        "text = pytesseract.image_to_string(Image.open(filename))\n",
        "os.remove(filename)\n",
        "print(\"text\",text)\n",
        "# show the output images\n",
        "cv2_imshow(image)\n",
        "cv2_imshow(gray)\n",
        "cv2.waitKey(0)"
      ],
      "execution_count": null,
      "outputs": [
        {
          "output_type": "stream",
          "text": [
            "text BIG FAT\n",
            "\n",
            "BoLpD HEADLINE\n",
            "\f\n"
          ],
          "name": "stdout"
        },
        {
          "output_type": "display_data",
          "data": {
            "image/png": "[encoded data removed]",
            "text/plain": [
              "<PIL.Image.Image image mode=RGB size=579x269 at 0x7FAC28432E90>"
            ]
          },
          "metadata": {
            "tags": []
          }
        },
        {
          "output_type": "display_data",
          "data": {
            "image/png": "[encoded data removed]",
            "text/plain": [
              "<PIL.Image.Image image mode=L size=579x269 at 0x7FAC28445E90>"
            ]
          },
          "metadata": {
            "tags": []
          }
        },
        {
          "output_type": "execute_result",
          "data": {
            "text/plain": [
              "-1"
            ]
          },
          "metadata": {
            "tags": []
          },
          "execution_count": 24
        }
      ]
    },
    {
      "cell_type": "code",
      "metadata": {
        "colab": {
          "base_uri": "https://localhost:8080/"
        },
        "id": "QqvNyvDixwyk",
        "outputId": "9e471f3f-65a7-4cf4-f91c-f76fdc920715"
      },
      "source": [
        "from collections import Counter\n",
        "CityQuantities = [] \n",
        "list1 = ['x','y','z','x','x','x','y', 'z']\n",
        "counts = Counter(list1)\n",
        "for cnt in counts:\n",
        "  CityQuantities.append((cnt, counts[cnt]))\n",
        "\n",
        "print(CityQuantities)"
      ],
      "execution_count": null,
      "outputs": [
        {
          "output_type": "stream",
          "text": [
            "[('x', 4), ('y', 2), ('z', 2)]\n"
          ],
          "name": "stdout"
        }
      ]
    },
    {
      "cell_type": "code",
      "metadata": {
        "id": "9aAsSpHDkzvn",
        "colab": {
          "base_uri": "https://localhost:8080/"
        },
        "outputId": "1730c581-14f3-44b8-9443-da7f13895f80"
      },
      "source": [
        "import os\n",
        "from collections import Counter\n",
        "import numpy as np\n",
        "import cv2\n",
        "import json\n",
        "\n",
        "def loadCity(path):\n",
        "  cityImages = []\n",
        "  # Getting the current work directory (cwd)\n",
        "  thisdir = path\n",
        "\n",
        "  # r=root, d=directories, f = files\n",
        "  for r, d, f in os.walk(thisdir):\n",
        "      for file in f:\n",
        "          if file.endswith(\".jpg\"):\n",
        "              cityImages.append(os.path.join(r, file))\n",
        "  return cityImages\n",
        "\n",
        "def loadData(path):\n",
        "  allData = dict()\n",
        "  subfolders = [ f.path for f in os.scandir(path) if f.is_dir() ]\n",
        "  for folder in subfolders:\n",
        "    allData[folder] = loadCity(folder)\n",
        "  return allData\n",
        "\n",
        "def processCity(cityName, labelsPath, weightsPath, configPath):\n",
        "  companyLists = list()\n",
        "  for image in cityName:\n",
        "    companyLists.extend(getLabels(image, labelsPath, weightsPath, configPath))\n",
        "  return companyLists\n",
        "\n",
        "def makeSets(cityLists):\n",
        "  CityQuantities = [] \n",
        "  counts = Counter(cityLists)\n",
        "  for cnt in counts:\n",
        "    CityQuantities.append((cnt, counts[cnt]))\n",
        "  return CityQuantities\n",
        "\n",
        "def getLabels(filename, labelsPath, weightsPath, configPath):\n",
        "    # companies = [\"tattelecom\",\"beeline\",\"dom_ru\",\"interdol\",\"kgs\",\"mts\",\"rostelecom\",\"tatais\",\"address\"]\n",
        "    # from random import randrange\n",
        "    # return [companies[randrange(3)], companies[randrange(3)], companies[randrange(3)]]\n",
        "    print(filename)\n",
        "    LABELS = open(labelsPath).read().strip().split(\"\\n\")\n",
        "\n",
        "    # np.random.seed(42)\n",
        "    np.random.seed(100)\n",
        "\n",
        "    net = cv2.dnn.readNetFromDarknet(configPath, weightsPath)\n",
        "    ln = net.getLayerNames()\n",
        "    ln = [ln[i[0] - 1] for i in net.getUnconnectedOutLayers()]\n",
        "\n",
        "    (W, H) = (None, None)\n",
        "\n",
        "    # read the next frame from the file\n",
        "    frame = cv2.imread(filename)\n",
        "    if frame is not None:\n",
        "        frame = cv2.resize(frame,(416,416))\n",
        "        ff = frame\n",
        "        frame = cv2.cvtColor(frame, cv2.COLOR_BGR2GRAY)\n",
        "        frame = np.dstack([frame, frame, frame])\n",
        "\n",
        "        # if the frame dimensions are empty, grab them\n",
        "        if W is None or H is None:\n",
        "            (H, W) = frame.shape[:2]\n",
        "\n",
        "        blob = cv2.dnn.blobFromImage(frame, 1 / 255.0, (416, 416),\n",
        "                                     swapRB=True, crop=False)\n",
        "        net.setInput(blob)\n",
        "        layerOutputs = net.forward(ln)\n",
        "        confidences = []\n",
        "        predictedClasses = []\n",
        "\n",
        "        # loop over each of the layer outputs\n",
        "        for output in layerOutputs:\n",
        "            # loop over each of the detections\n",
        "            for detection in output:\n",
        "                scores = detection[5:]\n",
        "                classID = np.argmax(scores)\n",
        "                confidence = scores[classID]\n",
        "                if confidence > 0.5:\n",
        "                    confidences.append(float(confidence))\n",
        "                    predictedClasses.append(LABELS[classID])\n",
        "        return predictedClasses\n",
        "\n",
        "def processData(citiesLabels, labelsPath, weightsPath, configPath):\n",
        "  cities = dict()\n",
        "\n",
        "  for city in citiesLabels:\n",
        "    citylist = processCity(citiesLabels[city], labelsPath, weightsPath, configPath)\n",
        "    if len(makeSets(citylist))>0:\n",
        "      citylabel = city.split(\"/\")[-1]\n",
        "      cities[citylabel]= makeSets(citylist)\n",
        "  return cities\n",
        "\n",
        "def saveDictionary(cities):\n",
        "  with open('data.json', 'w') as fp:\n",
        "      json.dump(cities, fp)\n",
        "\n",
        "def main():\n",
        "    labelsPath = \"/content/drive/MyDrive/hackathon/photoContent/summary/classes.txt\"\n",
        "    weightsPath = \"/content/drive/MyDrive/hackathon/photoContent/summary/yolov3_training_last.weights\"\n",
        "    configPath = \"/content/drive/MyDrive/hackathon/photoContent/summary/yolov3_testing.cfg\"\n",
        "    path = \"/content/drive/MyDrive/hackathon/photoContent/summary/newData\"\n",
        "    data = loadData(path)\n",
        "    print(data)\n",
        "    processDict = processData(data, labelsPath, weightsPath, configPath)\n",
        "    print(processDict)\n",
        "    saveDictionary(processDict)\n",
        "    pass\n",
        "\n",
        "if __name__ == '__main__':\n",
        "    main()"
      ],
      "execution_count": null,
      "outputs": [
        {
          "output_type": "stream",
          "text": [
            "{'/content/drive/MyDrive/hackathon/photoContent/summary/newData/city2': ['/content/drive/MyDrive/hackathon/photoContent/summary/newData/city2/5ec7bee88334a.jpg', '/content/drive/MyDrive/hackathon/photoContent/summary/newData/city2/5ec7bb78c3b38.jpg', '/content/drive/MyDrive/hackathon/photoContent/summary/newData/city2/5ec7e6a16a89f.jpg', '/content/drive/MyDrive/hackathon/photoContent/summary/newData/city2/5ec7d3571ee8d.jpg', '/content/drive/MyDrive/hackathon/photoContent/summary/newData/city2/5ec7dcc0a710a.jpg', '/content/drive/MyDrive/hackathon/photoContent/summary/newData/city2/5ec7a15565c52.jpg', '/content/drive/MyDrive/hackathon/photoContent/summary/newData/city2/5ec7ddf40e339.jpg', '/content/drive/MyDrive/hackathon/photoContent/summary/newData/city2/5ec7d4278a224.jpg', '/content/drive/MyDrive/hackathon/photoContent/summary/newData/city2/5ec7cfd578d26.jpg', '/content/drive/MyDrive/hackathon/photoContent/summary/newData/city2/5ec7d2601a736.jpg', '/content/drive/MyDrive/hackathon/photoContent/summary/newData/city2/5ec7dcbec389e.jpg', '/content/drive/MyDrive/hackathon/photoContent/summary/newData/city2/5ec7da7b84495.jpg', '/content/drive/MyDrive/hackathon/photoContent/summary/newData/city2/5ec7c52179f01.jpg', '/content/drive/MyDrive/hackathon/photoContent/summary/newData/city2/5ec7ab9da28c6.jpg', '/content/drive/MyDrive/hackathon/photoContent/summary/newData/city2/1.jpg', '/content/drive/MyDrive/hackathon/photoContent/summary/newData/city2/5ec7bf092b97f.jpg', '/content/drive/MyDrive/hackathon/photoContent/summary/newData/city2/5ec7d556689f7.jpg', '/content/drive/MyDrive/hackathon/photoContent/summary/newData/city2/5ec7dfd4e1e02.jpg', '/content/drive/MyDrive/hackathon/photoContent/summary/newData/city2/5ec8c92f14f17.jpg', '/content/drive/MyDrive/hackathon/photoContent/summary/newData/city2/5ec7c9ea158bf.jpg'], '/content/drive/MyDrive/hackathon/photoContent/summary/newData/city1': ['/content/drive/MyDrive/hackathon/photoContent/summary/newData/city1/5ec7c188d1f06.jpg', '/content/drive/MyDrive/hackathon/photoContent/summary/newData/city1/5ec7d9e98739d.jpg', '/content/drive/MyDrive/hackathon/photoContent/summary/newData/city1/5ec7c90e0253c.jpg', '/content/drive/MyDrive/hackathon/photoContent/summary/newData/city1/5ec7d21a2d3d7.jpg', '/content/drive/MyDrive/hackathon/photoContent/summary/newData/city1/5ec7af57af534.jpg', '/content/drive/MyDrive/hackathon/photoContent/summary/newData/city1/5ec7ea93be61f.jpg', '/content/drive/MyDrive/hackathon/photoContent/summary/newData/city1/5ec7e7446fdd8.jpg', '/content/drive/MyDrive/hackathon/photoContent/summary/newData/city1/5ec7dc869ac02.jpg', '/content/drive/MyDrive/hackathon/photoContent/summary/newData/city1/5ec7ba2e7ee80.jpg', '/content/drive/MyDrive/hackathon/photoContent/summary/newData/city1/5ec7e8026248a.jpg', '/content/drive/MyDrive/hackathon/photoContent/summary/newData/city1/5ec7ab6cb72b1.jpg', '/content/drive/MyDrive/hackathon/photoContent/summary/newData/city1/5ec7dcefbd2bb.jpg', '/content/drive/MyDrive/hackathon/photoContent/summary/newData/city1/5ec7d7b7b9ead.jpg', '/content/drive/MyDrive/hackathon/photoContent/summary/newData/city1/5ec7dd584265a.jpg', '/content/drive/MyDrive/hackathon/photoContent/summary/newData/city1/5ec7debc380c2.jpg', '/content/drive/MyDrive/hackathon/photoContent/summary/newData/city1/5ec7ddfd952a7.jpg', '/content/drive/MyDrive/hackathon/photoContent/summary/newData/city1/5ec7d9bbd9a29.jpg', '/content/drive/MyDrive/hackathon/photoContent/summary/newData/city1/5ec7ace7e58e2.jpg', '/content/drive/MyDrive/hackathon/photoContent/summary/newData/city1/5ec7cc5142767.jpg', '/content/drive/MyDrive/hackathon/photoContent/summary/newData/city1/5ec7d942bbc50.jpg'], '/content/drive/MyDrive/hackathon/photoContent/summary/newData/city4': ['/content/drive/MyDrive/hackathon/photoContent/summary/newData/city4/5ec8daff2f09c.jpg', '/content/drive/MyDrive/hackathon/photoContent/summary/newData/city4/5ec7ff551de4d.jpg', '/content/drive/MyDrive/hackathon/photoContent/summary/newData/city4/5ec8c92f14f17.jpg', '/content/drive/MyDrive/hackathon/photoContent/summary/newData/city4/5ec8cdf6add12.jpg', '/content/drive/MyDrive/hackathon/photoContent/summary/newData/city4/5ec7f3b9b9a9c.jpg', '/content/drive/MyDrive/hackathon/photoContent/summary/newData/city4/5ec7e8026248a.jpg', '/content/drive/MyDrive/hackathon/photoContent/summary/newData/city4/5ec7dfd4e1e02.jpg', '/content/drive/MyDrive/hackathon/photoContent/summary/newData/city4/5ec7ea93be61f.jpg', '/content/drive/MyDrive/hackathon/photoContent/summary/newData/city4/5ec7ea83dd94c.jpg', '/content/drive/MyDrive/hackathon/photoContent/summary/newData/city4/5ec7fc68c9c5a.jpg', '/content/drive/MyDrive/hackathon/photoContent/summary/newData/city4/5ec7e2d383bca.jpg', '/content/drive/MyDrive/hackathon/photoContent/summary/newData/city4/5ec7e326638e7.jpg', '/content/drive/MyDrive/hackathon/photoContent/summary/newData/city4/5ec7e7446fdd8.jpg', '/content/drive/MyDrive/hackathon/photoContent/summary/newData/city4/5ec7e5a53c59d.jpg', '/content/drive/MyDrive/hackathon/photoContent/summary/newData/city4/5ec7debc380c2.jpg', '/content/drive/MyDrive/hackathon/photoContent/summary/newData/city4/5ec7ddfd952a7.jpg', '/content/drive/MyDrive/hackathon/photoContent/summary/newData/city4/5ec7e6a16a89f.jpg', '/content/drive/MyDrive/hackathon/photoContent/summary/newData/city4/5ec7dd584265a.jpg', '/content/drive/MyDrive/hackathon/photoContent/summary/newData/city4/5ec7ddf40e339.jpg', '/content/drive/MyDrive/hackathon/photoContent/summary/newData/city4/5ec7dcefbd2bb.jpg'], '/content/drive/MyDrive/hackathon/photoContent/summary/newData/city3': ['/content/drive/MyDrive/hackathon/photoContent/summary/newData/city3/5ec7c9ea158bf.jpg', '/content/drive/MyDrive/hackathon/photoContent/summary/newData/city3/5ec7db9bf1671.jpg', '/content/drive/MyDrive/hackathon/photoContent/summary/newData/city3/5ec7da7b84495.jpg', '/content/drive/MyDrive/hackathon/photoContent/summary/newData/city3/5ec7dcc0a710a.jpg', '/content/drive/MyDrive/hackathon/photoContent/summary/newData/city3/5ec7dc869ac02.jpg', '/content/drive/MyDrive/hackathon/photoContent/summary/newData/city3/5ec7d556689f7.jpg', '/content/drive/MyDrive/hackathon/photoContent/summary/newData/city3/5ec7dcbec389e.jpg', '/content/drive/MyDrive/hackathon/photoContent/summary/newData/city3/5ec7d4278a224.jpg', '/content/drive/MyDrive/hackathon/photoContent/summary/newData/city3/5ec7d3571ee8d.jpg', '/content/drive/MyDrive/hackathon/photoContent/summary/newData/city3/5ec7d7b7b9ead.jpg', '/content/drive/MyDrive/hackathon/photoContent/summary/newData/city3/5ec7d942bbc50.jpg', '/content/drive/MyDrive/hackathon/photoContent/summary/newData/city3/5ec7d9bbd9a29.jpg', '/content/drive/MyDrive/hackathon/photoContent/summary/newData/city3/5ec7d2601a736.jpg', '/content/drive/MyDrive/hackathon/photoContent/summary/newData/city3/5ec7c188d1f06.jpg', '/content/drive/MyDrive/hackathon/photoContent/summary/newData/city3/5ec7c90e0253c.jpg', '/content/drive/MyDrive/hackathon/photoContent/summary/newData/city3/5ec7d21a2d3d7.jpg', '/content/drive/MyDrive/hackathon/photoContent/summary/newData/city3/5ec7d9e98739d.jpg', '/content/drive/MyDrive/hackathon/photoContent/summary/newData/city3/5ec7cfd578d26.jpg', '/content/drive/MyDrive/hackathon/photoContent/summary/newData/city3/5ec7cc5142767.jpg', '/content/drive/MyDrive/hackathon/photoContent/summary/newData/city3/5ec7c52179f01.jpg'], '/content/drive/MyDrive/hackathon/photoContent/summary/newData/city8': ['/content/drive/MyDrive/hackathon/photoContent/summary/newData/city8/5efc34a22c5f7.jpg', '/content/drive/MyDrive/hackathon/photoContent/summary/newData/city8/5efc333b39a7e.jpg', '/content/drive/MyDrive/hackathon/photoContent/summary/newData/city8/5ef61128365f3.jpg', '/content/drive/MyDrive/hackathon/photoContent/summary/newData/city8/5ef6082f76b2f.jpg', '/content/drive/MyDrive/hackathon/photoContent/summary/newData/city8/5ef3312fcc1fb.jpg', '/content/drive/MyDrive/hackathon/photoContent/summary/newData/city8/5efc2bebefd55.jpg', '/content/drive/MyDrive/hackathon/photoContent/summary/newData/city8/5efc2e52b5d34.jpg', '/content/drive/MyDrive/hackathon/photoContent/summary/newData/city8/5efc2bbaab6be.jpg', '/content/drive/MyDrive/hackathon/photoContent/summary/newData/city8/5ef6082fa720f.jpg', '/content/drive/MyDrive/hackathon/photoContent/summary/newData/city8/5ef5f60d89980.jpg', '/content/drive/MyDrive/hackathon/photoContent/summary/newData/city8/5ef07192414b4.jpg', '/content/drive/MyDrive/hackathon/photoContent/summary/newData/city8/5ef9e9b2f2c17.jpg', '/content/drive/MyDrive/hackathon/photoContent/summary/newData/city8/5ef389c988917.jpg', '/content/drive/MyDrive/hackathon/photoContent/summary/newData/city8/5ef5f34e47a42.jpg', '/content/drive/MyDrive/hackathon/photoContent/summary/newData/city8/5ef5f74687e63.jpg', '/content/drive/MyDrive/hackathon/photoContent/summary/newData/city8/5ef5f1aacf494.jpg', '/content/drive/MyDrive/hackathon/photoContent/summary/newData/city8/5efc314a4d1a1.jpg', '/content/drive/MyDrive/hackathon/photoContent/summary/newData/city8/5efc36e76bbd9.jpg', '/content/drive/MyDrive/hackathon/photoContent/summary/newData/city8/5eff3ca96a545.jpg', '/content/drive/MyDrive/hackathon/photoContent/summary/newData/city8/5efcb7dc43deb.jpg'], '/content/drive/MyDrive/hackathon/photoContent/summary/newData/city7': ['/content/drive/MyDrive/hackathon/photoContent/summary/newData/city7/5ef1c5ef0ad92.jpg', '/content/drive/MyDrive/hackathon/photoContent/summary/newData/city7/5eec90e00c560.jpg', '/content/drive/MyDrive/hackathon/photoContent/summary/newData/city7/5ef5b17415d94.jpg', '/content/drive/MyDrive/hackathon/photoContent/summary/newData/city7/5eeca53c0b23b.jpg', '/content/drive/MyDrive/hackathon/photoContent/summary/newData/city7/5ef5b03b6cb84.jpg', '/content/drive/MyDrive/hackathon/photoContent/summary/newData/city7/5ef1c02213675.jpg', '/content/drive/MyDrive/hackathon/photoContent/summary/newData/city7/5ef1e852e6f1c.jpg', '/content/drive/MyDrive/hackathon/photoContent/summary/newData/city7/5ef1c6a6c0ece.jpg', '/content/drive/MyDrive/hackathon/photoContent/summary/newData/city7/5ee0933ebc7a1.jpg', '/content/drive/MyDrive/hackathon/photoContent/summary/newData/city7/5ed90f994b625.jpg', '/content/drive/MyDrive/hackathon/photoContent/summary/newData/city7/5eda5525550ba.jpg', '/content/drive/MyDrive/hackathon/photoContent/summary/newData/city7/5ede666d1681b.jpg', '/content/drive/MyDrive/hackathon/photoContent/summary/newData/city7/5eec9636a6f7d.jpg', '/content/drive/MyDrive/hackathon/photoContent/summary/newData/city7/5ee9ebb37e1e0.jpg', '/content/drive/MyDrive/hackathon/photoContent/summary/newData/city7/5ee0af2751a9b.jpg', '/content/drive/MyDrive/hackathon/photoContent/summary/newData/city7/5ee0b041b209f.jpg', '/content/drive/MyDrive/hackathon/photoContent/summary/newData/city7/5eec9468c889e.jpg', '/content/drive/MyDrive/hackathon/photoContent/summary/newData/city7/5ed65695b14d7.jpg', '/content/drive/MyDrive/hackathon/photoContent/summary/newData/city7/5ee0e36ebac67.jpg', '/content/drive/MyDrive/hackathon/photoContent/summary/newData/city7/5ede6253d168c.jpg'], '/content/drive/MyDrive/hackathon/photoContent/summary/newData/city6': ['/content/drive/MyDrive/hackathon/photoContent/summary/newData/city6/5ed76e6610403.jpg', '/content/drive/MyDrive/hackathon/photoContent/summary/newData/city6/5ece7f59bf2d3.jpg', '/content/drive/MyDrive/hackathon/photoContent/summary/newData/city6/5ed8f1fd04481.jpg', '/content/drive/MyDrive/hackathon/photoContent/summary/newData/city6/5ed0ecef5cfc7.jpg', '/content/drive/MyDrive/hackathon/photoContent/summary/newData/city6/5ece9cafd41ac.jpg', '/content/drive/MyDrive/hackathon/photoContent/summary/newData/city6/5ecbca51d31e8.jpg', '/content/drive/MyDrive/hackathon/photoContent/summary/newData/city6/5ece662b9a74d.jpg', '/content/drive/MyDrive/hackathon/photoContent/summary/newData/city6/5ece63095938f.jpg', '/content/drive/MyDrive/hackathon/photoContent/summary/newData/city6/5ecd1f4115593.jpg', '/content/drive/MyDrive/hackathon/photoContent/summary/newData/city6/5ecd296915ff9.jpg', '/content/drive/MyDrive/hackathon/photoContent/summary/newData/city6/5ecd2f394b123.jpg', '/content/drive/MyDrive/hackathon/photoContent/summary/newData/city6/5ecbc926c2ffd.jpg', '/content/drive/MyDrive/hackathon/photoContent/summary/newData/city6/5ecd119d87341.jpg', '/content/drive/MyDrive/hackathon/photoContent/summary/newData/city6/5ecbc7c27b81d.jpg', '/content/drive/MyDrive/hackathon/photoContent/summary/newData/city6/5ecbcaeb144b3.jpg', '/content/drive/MyDrive/hackathon/photoContent/summary/newData/city6/5ecd2a2562af3.jpg', '/content/drive/MyDrive/hackathon/photoContent/summary/newData/city6/5ecbc71592e13.jpg', '/content/drive/MyDrive/hackathon/photoContent/summary/newData/city6/5ecbc738b0e74.jpg', '/content/drive/MyDrive/hackathon/photoContent/summary/newData/city6/5ecf8d753f7db.jpg', '/content/drive/MyDrive/hackathon/photoContent/summary/newData/city6/5ecf5e4d29fce.jpg'], '/content/drive/MyDrive/hackathon/photoContent/summary/newData/city5': ['/content/drive/MyDrive/hackathon/photoContent/summary/newData/city5/5eca5a49de61e.jpg', '/content/drive/MyDrive/hackathon/photoContent/summary/newData/city5/5ecbb23c8ddc8.jpg', '/content/drive/MyDrive/hackathon/photoContent/summary/newData/city5/5ecbb25d00346.jpg', '/content/drive/MyDrive/hackathon/photoContent/summary/newData/city5/5ecbb90204f5a.jpg', '/content/drive/MyDrive/hackathon/photoContent/summary/newData/city5/5ecbaea3d39d9.jpg', '/content/drive/MyDrive/hackathon/photoContent/summary/newData/city5/5eca504b24354.jpg', '/content/drive/MyDrive/hackathon/photoContent/summary/newData/city5/5ec793d7a226a.jpg', '/content/drive/MyDrive/hackathon/photoContent/summary/newData/city5/5eca590b190a9.jpg', '/content/drive/MyDrive/hackathon/photoContent/summary/newData/city5/5ec8ffc47bd09.jpg', '/content/drive/MyDrive/hackathon/photoContent/summary/newData/city5/5eca58d33f854.jpg', '/content/drive/MyDrive/hackathon/photoContent/summary/newData/city5/5ec6824983c5c.jpg', '/content/drive/MyDrive/hackathon/photoContent/summary/newData/city5/5ec680d07335c.jpg', '/content/drive/MyDrive/hackathon/photoContent/summary/newData/city5/5ec79217d27f9.jpg', '/content/drive/MyDrive/hackathon/photoContent/summary/newData/city5/5ec8fd01981e5.jpg', '/content/drive/MyDrive/hackathon/photoContent/summary/newData/city5/5ec6808b698fe.jpg', '/content/drive/MyDrive/hackathon/photoContent/summary/newData/city5/5ec5252d666c9.jpg', '/content/drive/MyDrive/hackathon/photoContent/summary/newData/city5/5ec78d0630a52.jpg', '/content/drive/MyDrive/hackathon/photoContent/summary/newData/city5/5ec693ceef227.jpg', '/content/drive/MyDrive/hackathon/photoContent/summary/newData/city5/5ec68bd740f05.jpg', '/content/drive/MyDrive/hackathon/photoContent/summary/newData/city5/5ec8dfa90e0f6.jpg'], '/content/drive/MyDrive/hackathon/photoContent/summary/newData/city10': ['/content/drive/MyDrive/hackathon/photoContent/summary/newData/city10/5f2d6f69d6dff.jpg', '/content/drive/MyDrive/hackathon/photoContent/summary/newData/city10/5f2d5038221ab.jpg', '/content/drive/MyDrive/hackathon/photoContent/summary/newData/city10/5f2c0f8bed1c5.jpg', '/content/drive/MyDrive/hackathon/photoContent/summary/newData/city10/5f2d739acce1a.jpg', '/content/drive/MyDrive/hackathon/photoContent/summary/newData/city10/5f2d704a0ea2a.jpg', '/content/drive/MyDrive/hackathon/photoContent/summary/newData/city10/5f2d4edf0a366.jpg', '/content/drive/MyDrive/hackathon/photoContent/summary/newData/city10/5f2c0f80c7ab0.jpg', '/content/drive/MyDrive/hackathon/photoContent/summary/newData/city10/60af9589bf526.jpg', '/content/drive/MyDrive/hackathon/photoContent/summary/newData/city10/6099356b08fc1.jpg', '/content/drive/MyDrive/hackathon/photoContent/summary/newData/city10/6099579254292.jpg', '/content/drive/MyDrive/hackathon/photoContent/summary/newData/city10/608eb8293d902.jpg', '/content/drive/MyDrive/hackathon/photoContent/summary/newData/city10/609fe4ba5da9d.jpg', '/content/drive/MyDrive/hackathon/photoContent/summary/newData/city10/609a9d5090869.jpg', '/content/drive/MyDrive/hackathon/photoContent/summary/newData/city10/609534ea2a8ff.jpg', '/content/drive/MyDrive/hackathon/photoContent/summary/newData/city10/5f7b17002bca9.jpg', '/content/drive/MyDrive/hackathon/photoContent/summary/newData/city10/5f5a0939ab469.jpg', '/content/drive/MyDrive/hackathon/photoContent/summary/newData/city10/5f5a24d4b6d4a.jpg', '/content/drive/MyDrive/hackathon/photoContent/summary/newData/city10/5f7b1a5fd3ee3.jpg', '/content/drive/MyDrive/hackathon/photoContent/summary/newData/city10/60a7c41490a30.jpg', '/content/drive/MyDrive/hackathon/photoContent/summary/newData/city10/5f5a1450df5a3.jpg', '/content/drive/MyDrive/hackathon/photoContent/summary/newData/city10/60a3cc9da2075.jpg', '/content/drive/MyDrive/hackathon/photoContent/summary/newData/city10/5f5a45682c269.jpg', '/content/drive/MyDrive/hackathon/photoContent/summary/newData/city10/5f5b73bc5cc0b.jpg', '/content/drive/MyDrive/hackathon/photoContent/summary/newData/city10/5f05e64d0dcfc.jpg', '/content/drive/MyDrive/hackathon/photoContent/summary/newData/city10/5f5a1d24aa37c.jpg', '/content/drive/MyDrive/hackathon/photoContent/summary/newData/city10/5f6c8cbb70f27.jpg', '/content/drive/MyDrive/hackathon/photoContent/summary/newData/city10/5f5a3d79238c2.jpg', '/content/drive/MyDrive/hackathon/photoContent/summary/newData/city10/5f4bc95375625.jpg', '/content/drive/MyDrive/hackathon/photoContent/summary/newData/city10/5f4f9e44dca13.jpg', '/content/drive/MyDrive/hackathon/photoContent/summary/newData/city10/5f4df69829217.jpg', '/content/drive/MyDrive/hackathon/photoContent/summary/newData/city10/5f4f9a05576b0.jpg', '/content/drive/MyDrive/hackathon/photoContent/summary/newData/city10/5f4e48877cb0a.jpg', '/content/drive/MyDrive/hackathon/photoContent/summary/newData/city10/5f3e85ac25a78.jpg', '/content/drive/MyDrive/hackathon/photoContent/summary/newData/city10/5f3d3a871fae5.jpg', '/content/drive/MyDrive/hackathon/photoContent/summary/newData/city10/5f3e69798d3b1.jpg', '/content/drive/MyDrive/hackathon/photoContent/summary/newData/city10/5f3fb870b7e4c.jpg', '/content/drive/MyDrive/hackathon/photoContent/summary/newData/city10/5f3bf66fa9763.jpg', '/content/drive/MyDrive/hackathon/photoContent/summary/newData/city10/5f4ce5e5687a3.jpg', '/content/drive/MyDrive/hackathon/photoContent/summary/newData/city10/5f3bf9458f0f4.jpg', '/content/drive/MyDrive/hackathon/photoContent/summary/newData/city10/5f2d70406043e.jpg', '/content/drive/MyDrive/hackathon/photoContent/summary/newData/city10/5f3a7eacc6a32.jpg', '/content/drive/MyDrive/hackathon/photoContent/summary/newData/city10/5f3d2a706d064.jpg', '/content/drive/MyDrive/hackathon/photoContent/summary/newData/city10/5f3bd8ef9375c.jpg', '/content/drive/MyDrive/hackathon/photoContent/summary/newData/city10/5f2d6a71ee667.jpg', '/content/drive/MyDrive/hackathon/photoContent/summary/newData/city10/5f2d4f36813ca.jpg', '/content/drive/MyDrive/hackathon/photoContent/summary/newData/city10/5f3bd3bd27a73.jpg'], '/content/drive/MyDrive/hackathon/photoContent/summary/newData/city9': ['/content/drive/MyDrive/hackathon/photoContent/summary/newData/city9/5f1ee0f349d28.jpg', '/content/drive/MyDrive/hackathon/photoContent/summary/newData/city9/5f2af19a7abae.jpg', '/content/drive/MyDrive/hackathon/photoContent/summary/newData/city9/5f0ff69be9239.jpg', '/content/drive/MyDrive/hackathon/photoContent/summary/newData/city9/5f01ec1ad5270.jpg', '/content/drive/MyDrive/hackathon/photoContent/summary/newData/city9/5f1dc18fcd0c2.jpg', '/content/drive/MyDrive/hackathon/photoContent/summary/newData/city9/5f1c49788d4d7.jpg', '/content/drive/MyDrive/hackathon/photoContent/summary/newData/city9/5f1c494a7d92c.jpg', '/content/drive/MyDrive/hackathon/photoContent/summary/newData/city9/5f1c4cfd35733.jpg', '/content/drive/MyDrive/hackathon/photoContent/summary/newData/city9/5f1c0b5f568a6.jpg', '/content/drive/MyDrive/hackathon/photoContent/summary/newData/city9/5f0d8166d4edb.jpg', '/content/drive/MyDrive/hackathon/photoContent/summary/newData/city9/5f0b28c710cd1.jpg', '/content/drive/MyDrive/hackathon/photoContent/summary/newData/city9/5f1c4964ccdb2.jpg', '/content/drive/MyDrive/hackathon/photoContent/summary/newData/city9/5f0f00d310a69.jpg', '/content/drive/MyDrive/hackathon/photoContent/summary/newData/city9/5f0f15fc1741b.jpg', '/content/drive/MyDrive/hackathon/photoContent/summary/newData/city9/5f0d833953fbe.jpg', '/content/drive/MyDrive/hackathon/photoContent/summary/newData/city9/5f0ea1df7bd1f.jpg', '/content/drive/MyDrive/hackathon/photoContent/summary/newData/city9/5f0db14a9421a.jpg', '/content/drive/MyDrive/hackathon/photoContent/summary/newData/city9/5f0f307057d5b.jpg', '/content/drive/MyDrive/hackathon/photoContent/summary/newData/city9/5f0ef0409faf2.jpg', '/content/drive/MyDrive/hackathon/photoContent/summary/newData/city9/5f0c611198fb0.jpg']}\n",
            "/content/drive/MyDrive/hackathon/photoContent/summary/newData/city2/5ec7bee88334a.jpg\n",
            "/content/drive/MyDrive/hackathon/photoContent/summary/newData/city2/5ec7bb78c3b38.jpg\n",
            "/content/drive/MyDrive/hackathon/photoContent/summary/newData/city2/5ec7e6a16a89f.jpg\n",
            "/content/drive/MyDrive/hackathon/photoContent/summary/newData/city2/5ec7d3571ee8d.jpg\n",
            "/content/drive/MyDrive/hackathon/photoContent/summary/newData/city2/5ec7dcc0a710a.jpg\n",
            "/content/drive/MyDrive/hackathon/photoContent/summary/newData/city2/5ec7a15565c52.jpg\n",
            "/content/drive/MyDrive/hackathon/photoContent/summary/newData/city2/5ec7ddf40e339.jpg\n",
            "/content/drive/MyDrive/hackathon/photoContent/summary/newData/city2/5ec7d4278a224.jpg\n",
            "/content/drive/MyDrive/hackathon/photoContent/summary/newData/city2/5ec7cfd578d26.jpg\n",
            "/content/drive/MyDrive/hackathon/photoContent/summary/newData/city2/5ec7d2601a736.jpg\n",
            "/content/drive/MyDrive/hackathon/photoContent/summary/newData/city2/5ec7dcbec389e.jpg\n",
            "/content/drive/MyDrive/hackathon/photoContent/summary/newData/city2/5ec7da7b84495.jpg\n",
            "/content/drive/MyDrive/hackathon/photoContent/summary/newData/city2/5ec7c52179f01.jpg\n",
            "/content/drive/MyDrive/hackathon/photoContent/summary/newData/city2/5ec7ab9da28c6.jpg\n",
            "/content/drive/MyDrive/hackathon/photoContent/summary/newData/city2/1.jpg\n",
            "/content/drive/MyDrive/hackathon/photoContent/summary/newData/city2/5ec7bf092b97f.jpg\n",
            "/content/drive/MyDrive/hackathon/photoContent/summary/newData/city2/5ec7d556689f7.jpg\n",
            "/content/drive/MyDrive/hackathon/photoContent/summary/newData/city2/5ec7dfd4e1e02.jpg\n",
            "/content/drive/MyDrive/hackathon/photoContent/summary/newData/city2/5ec8c92f14f17.jpg\n",
            "/content/drive/MyDrive/hackathon/photoContent/summary/newData/city2/5ec7c9ea158bf.jpg\n",
            "/content/drive/MyDrive/hackathon/photoContent/summary/newData/city1/5ec7c188d1f06.jpg\n",
            "/content/drive/MyDrive/hackathon/photoContent/summary/newData/city1/5ec7d9e98739d.jpg\n",
            "/content/drive/MyDrive/hackathon/photoContent/summary/newData/city1/5ec7c90e0253c.jpg\n",
            "/content/drive/MyDrive/hackathon/photoContent/summary/newData/city1/5ec7d21a2d3d7.jpg\n",
            "/content/drive/MyDrive/hackathon/photoContent/summary/newData/city1/5ec7af57af534.jpg\n",
            "/content/drive/MyDrive/hackathon/photoContent/summary/newData/city1/5ec7ea93be61f.jpg\n",
            "/content/drive/MyDrive/hackathon/photoContent/summary/newData/city1/5ec7e7446fdd8.jpg\n",
            "/content/drive/MyDrive/hackathon/photoContent/summary/newData/city1/5ec7dc869ac02.jpg\n",
            "/content/drive/MyDrive/hackathon/photoContent/summary/newData/city1/5ec7ba2e7ee80.jpg\n",
            "/content/drive/MyDrive/hackathon/photoContent/summary/newData/city1/5ec7e8026248a.jpg\n",
            "/content/drive/MyDrive/hackathon/photoContent/summary/newData/city1/5ec7ab6cb72b1.jpg\n",
            "/content/drive/MyDrive/hackathon/photoContent/summary/newData/city1/5ec7dcefbd2bb.jpg\n",
            "/content/drive/MyDrive/hackathon/photoContent/summary/newData/city1/5ec7d7b7b9ead.jpg\n",
            "/content/drive/MyDrive/hackathon/photoContent/summary/newData/city1/5ec7dd584265a.jpg\n",
            "/content/drive/MyDrive/hackathon/photoContent/summary/newData/city1/5ec7debc380c2.jpg\n",
            "/content/drive/MyDrive/hackathon/photoContent/summary/newData/city1/5ec7ddfd952a7.jpg\n",
            "/content/drive/MyDrive/hackathon/photoContent/summary/newData/city1/5ec7d9bbd9a29.jpg\n",
            "/content/drive/MyDrive/hackathon/photoContent/summary/newData/city1/5ec7ace7e58e2.jpg\n",
            "/content/drive/MyDrive/hackathon/photoContent/summary/newData/city1/5ec7cc5142767.jpg\n",
            "/content/drive/MyDrive/hackathon/photoContent/summary/newData/city1/5ec7d942bbc50.jpg\n",
            "/content/drive/MyDrive/hackathon/photoContent/summary/newData/city4/5ec8daff2f09c.jpg\n",
            "/content/drive/MyDrive/hackathon/photoContent/summary/newData/city4/5ec7ff551de4d.jpg\n",
            "/content/drive/MyDrive/hackathon/photoContent/summary/newData/city4/5ec8c92f14f17.jpg\n",
            "/content/drive/MyDrive/hackathon/photoContent/summary/newData/city4/5ec8cdf6add12.jpg\n",
            "/content/drive/MyDrive/hackathon/photoContent/summary/newData/city4/5ec7f3b9b9a9c.jpg\n",
            "/content/drive/MyDrive/hackathon/photoContent/summary/newData/city4/5ec7e8026248a.jpg\n",
            "/content/drive/MyDrive/hackathon/photoContent/summary/newData/city4/5ec7dfd4e1e02.jpg\n",
            "/content/drive/MyDrive/hackathon/photoContent/summary/newData/city4/5ec7ea93be61f.jpg\n",
            "/content/drive/MyDrive/hackathon/photoContent/summary/newData/city4/5ec7ea83dd94c.jpg\n",
            "/content/drive/MyDrive/hackathon/photoContent/summary/newData/city4/5ec7fc68c9c5a.jpg\n",
            "/content/drive/MyDrive/hackathon/photoContent/summary/newData/city4/5ec7e2d383bca.jpg\n",
            "/content/drive/MyDrive/hackathon/photoContent/summary/newData/city4/5ec7e326638e7.jpg\n",
            "/content/drive/MyDrive/hackathon/photoContent/summary/newData/city4/5ec7e7446fdd8.jpg\n",
            "/content/drive/MyDrive/hackathon/photoContent/summary/newData/city4/5ec7e5a53c59d.jpg\n",
            "/content/drive/MyDrive/hackathon/photoContent/summary/newData/city4/5ec7debc380c2.jpg\n",
            "/content/drive/MyDrive/hackathon/photoContent/summary/newData/city4/5ec7ddfd952a7.jpg\n",
            "/content/drive/MyDrive/hackathon/photoContent/summary/newData/city4/5ec7e6a16a89f.jpg\n",
            "/content/drive/MyDrive/hackathon/photoContent/summary/newData/city4/5ec7dd584265a.jpg\n",
            "/content/drive/MyDrive/hackathon/photoContent/summary/newData/city4/5ec7ddf40e339.jpg\n",
            "/content/drive/MyDrive/hackathon/photoContent/summary/newData/city4/5ec7dcefbd2bb.jpg\n",
            "/content/drive/MyDrive/hackathon/photoContent/summary/newData/city3/5ec7c9ea158bf.jpg\n",
            "/content/drive/MyDrive/hackathon/photoContent/summary/newData/city3/5ec7db9bf1671.jpg\n",
            "/content/drive/MyDrive/hackathon/photoContent/summary/newData/city3/5ec7da7b84495.jpg\n",
            "/content/drive/MyDrive/hackathon/photoContent/summary/newData/city3/5ec7dcc0a710a.jpg\n",
            "/content/drive/MyDrive/hackathon/photoContent/summary/newData/city3/5ec7dc869ac02.jpg\n",
            "/content/drive/MyDrive/hackathon/photoContent/summary/newData/city3/5ec7d556689f7.jpg\n",
            "/content/drive/MyDrive/hackathon/photoContent/summary/newData/city3/5ec7dcbec389e.jpg\n",
            "/content/drive/MyDrive/hackathon/photoContent/summary/newData/city3/5ec7d4278a224.jpg\n",
            "/content/drive/MyDrive/hackathon/photoContent/summary/newData/city3/5ec7d3571ee8d.jpg\n",
            "/content/drive/MyDrive/hackathon/photoContent/summary/newData/city3/5ec7d7b7b9ead.jpg\n",
            "/content/drive/MyDrive/hackathon/photoContent/summary/newData/city3/5ec7d942bbc50.jpg\n",
            "/content/drive/MyDrive/hackathon/photoContent/summary/newData/city3/5ec7d9bbd9a29.jpg\n",
            "/content/drive/MyDrive/hackathon/photoContent/summary/newData/city3/5ec7d2601a736.jpg\n",
            "/content/drive/MyDrive/hackathon/photoContent/summary/newData/city3/5ec7c188d1f06.jpg\n",
            "/content/drive/MyDrive/hackathon/photoContent/summary/newData/city3/5ec7c90e0253c.jpg\n",
            "/content/drive/MyDrive/hackathon/photoContent/summary/newData/city3/5ec7d21a2d3d7.jpg\n",
            "/content/drive/MyDrive/hackathon/photoContent/summary/newData/city3/5ec7d9e98739d.jpg\n",
            "/content/drive/MyDrive/hackathon/photoContent/summary/newData/city3/5ec7cfd578d26.jpg\n",
            "/content/drive/MyDrive/hackathon/photoContent/summary/newData/city3/5ec7cc5142767.jpg\n",
            "/content/drive/MyDrive/hackathon/photoContent/summary/newData/city3/5ec7c52179f01.jpg\n",
            "/content/drive/MyDrive/hackathon/photoContent/summary/newData/city8/5efc34a22c5f7.jpg\n",
            "/content/drive/MyDrive/hackathon/photoContent/summary/newData/city8/5efc333b39a7e.jpg\n",
            "/content/drive/MyDrive/hackathon/photoContent/summary/newData/city8/5ef61128365f3.jpg\n",
            "/content/drive/MyDrive/hackathon/photoContent/summary/newData/city8/5ef6082f76b2f.jpg\n",
            "/content/drive/MyDrive/hackathon/photoContent/summary/newData/city8/5ef3312fcc1fb.jpg\n",
            "/content/drive/MyDrive/hackathon/photoContent/summary/newData/city8/5efc2bebefd55.jpg\n",
            "/content/drive/MyDrive/hackathon/photoContent/summary/newData/city8/5efc2e52b5d34.jpg\n",
            "/content/drive/MyDrive/hackathon/photoContent/summary/newData/city8/5efc2bbaab6be.jpg\n",
            "/content/drive/MyDrive/hackathon/photoContent/summary/newData/city8/5ef6082fa720f.jpg\n",
            "/content/drive/MyDrive/hackathon/photoContent/summary/newData/city8/5ef5f60d89980.jpg\n",
            "/content/drive/MyDrive/hackathon/photoContent/summary/newData/city8/5ef07192414b4.jpg\n",
            "/content/drive/MyDrive/hackathon/photoContent/summary/newData/city8/5ef9e9b2f2c17.jpg\n",
            "/content/drive/MyDrive/hackathon/photoContent/summary/newData/city8/5ef389c988917.jpg\n",
            "/content/drive/MyDrive/hackathon/photoContent/summary/newData/city8/5ef5f34e47a42.jpg\n",
            "/content/drive/MyDrive/hackathon/photoContent/summary/newData/city8/5ef5f74687e63.jpg\n",
            "/content/drive/MyDrive/hackathon/photoContent/summary/newData/city8/5ef5f1aacf494.jpg\n",
            "/content/drive/MyDrive/hackathon/photoContent/summary/newData/city8/5efc314a4d1a1.jpg\n",
            "/content/drive/MyDrive/hackathon/photoContent/summary/newData/city8/5efc36e76bbd9.jpg\n",
            "/content/drive/MyDrive/hackathon/photoContent/summary/newData/city8/5eff3ca96a545.jpg\n",
            "/content/drive/MyDrive/hackathon/photoContent/summary/newData/city8/5efcb7dc43deb.jpg\n",
            "/content/drive/MyDrive/hackathon/photoContent/summary/newData/city7/5ef1c5ef0ad92.jpg\n",
            "/content/drive/MyDrive/hackathon/photoContent/summary/newData/city7/5eec90e00c560.jpg\n",
            "/content/drive/MyDrive/hackathon/photoContent/summary/newData/city7/5ef5b17415d94.jpg\n",
            "/content/drive/MyDrive/hackathon/photoContent/summary/newData/city7/5eeca53c0b23b.jpg\n",
            "/content/drive/MyDrive/hackathon/photoContent/summary/newData/city7/5ef5b03b6cb84.jpg\n",
            "/content/drive/MyDrive/hackathon/photoContent/summary/newData/city7/5ef1c02213675.jpg\n",
            "/content/drive/MyDrive/hackathon/photoContent/summary/newData/city7/5ef1e852e6f1c.jpg\n",
            "/content/drive/MyDrive/hackathon/photoContent/summary/newData/city7/5ef1c6a6c0ece.jpg\n",
            "/content/drive/MyDrive/hackathon/photoContent/summary/newData/city7/5ee0933ebc7a1.jpg\n",
            "/content/drive/MyDrive/hackathon/photoContent/summary/newData/city7/5ed90f994b625.jpg\n",
            "/content/drive/MyDrive/hackathon/photoContent/summary/newData/city7/5eda5525550ba.jpg\n",
            "/content/drive/MyDrive/hackathon/photoContent/summary/newData/city7/5ede666d1681b.jpg\n",
            "/content/drive/MyDrive/hackathon/photoContent/summary/newData/city7/5eec9636a6f7d.jpg\n",
            "/content/drive/MyDrive/hackathon/photoContent/summary/newData/city7/5ee9ebb37e1e0.jpg\n",
            "/content/drive/MyDrive/hackathon/photoContent/summary/newData/city7/5ee0af2751a9b.jpg\n",
            "/content/drive/MyDrive/hackathon/photoContent/summary/newData/city7/5ee0b041b209f.jpg\n",
            "/content/drive/MyDrive/hackathon/photoContent/summary/newData/city7/5eec9468c889e.jpg\n",
            "/content/drive/MyDrive/hackathon/photoContent/summary/newData/city7/5ed65695b14d7.jpg\n",
            "/content/drive/MyDrive/hackathon/photoContent/summary/newData/city7/5ee0e36ebac67.jpg\n",
            "/content/drive/MyDrive/hackathon/photoContent/summary/newData/city7/5ede6253d168c.jpg\n",
            "/content/drive/MyDrive/hackathon/photoContent/summary/newData/city6/5ed76e6610403.jpg\n",
            "/content/drive/MyDrive/hackathon/photoContent/summary/newData/city6/5ece7f59bf2d3.jpg\n",
            "/content/drive/MyDrive/hackathon/photoContent/summary/newData/city6/5ed8f1fd04481.jpg\n",
            "/content/drive/MyDrive/hackathon/photoContent/summary/newData/city6/5ed0ecef5cfc7.jpg\n",
            "/content/drive/MyDrive/hackathon/photoContent/summary/newData/city6/5ece9cafd41ac.jpg\n",
            "/content/drive/MyDrive/hackathon/photoContent/summary/newData/city6/5ecbca51d31e8.jpg\n",
            "/content/drive/MyDrive/hackathon/photoContent/summary/newData/city6/5ece662b9a74d.jpg\n",
            "/content/drive/MyDrive/hackathon/photoContent/summary/newData/city6/5ece63095938f.jpg\n",
            "/content/drive/MyDrive/hackathon/photoContent/summary/newData/city6/5ecd1f4115593.jpg\n",
            "/content/drive/MyDrive/hackathon/photoContent/summary/newData/city6/5ecd296915ff9.jpg\n",
            "/content/drive/MyDrive/hackathon/photoContent/summary/newData/city6/5ecd2f394b123.jpg\n",
            "/content/drive/MyDrive/hackathon/photoContent/summary/newData/city6/5ecbc926c2ffd.jpg\n",
            "/content/drive/MyDrive/hackathon/photoContent/summary/newData/city6/5ecd119d87341.jpg\n",
            "/content/drive/MyDrive/hackathon/photoContent/summary/newData/city6/5ecbc7c27b81d.jpg\n",
            "/content/drive/MyDrive/hackathon/photoContent/summary/newData/city6/5ecbcaeb144b3.jpg\n",
            "/content/drive/MyDrive/hackathon/photoContent/summary/newData/city6/5ecd2a2562af3.jpg\n",
            "/content/drive/MyDrive/hackathon/photoContent/summary/newData/city6/5ecbc71592e13.jpg\n",
            "/content/drive/MyDrive/hackathon/photoContent/summary/newData/city6/5ecbc738b0e74.jpg\n",
            "/content/drive/MyDrive/hackathon/photoContent/summary/newData/city6/5ecf8d753f7db.jpg\n",
            "/content/drive/MyDrive/hackathon/photoContent/summary/newData/city6/5ecf5e4d29fce.jpg\n",
            "/content/drive/MyDrive/hackathon/photoContent/summary/newData/city5/5eca5a49de61e.jpg\n",
            "/content/drive/MyDrive/hackathon/photoContent/summary/newData/city5/5ecbb23c8ddc8.jpg\n",
            "/content/drive/MyDrive/hackathon/photoContent/summary/newData/city5/5ecbb25d00346.jpg\n",
            "/content/drive/MyDrive/hackathon/photoContent/summary/newData/city5/5ecbb90204f5a.jpg\n",
            "/content/drive/MyDrive/hackathon/photoContent/summary/newData/city5/5ecbaea3d39d9.jpg\n",
            "/content/drive/MyDrive/hackathon/photoContent/summary/newData/city5/5eca504b24354.jpg\n",
            "/content/drive/MyDrive/hackathon/photoContent/summary/newData/city5/5ec793d7a226a.jpg\n",
            "/content/drive/MyDrive/hackathon/photoContent/summary/newData/city5/5eca590b190a9.jpg\n",
            "/content/drive/MyDrive/hackathon/photoContent/summary/newData/city5/5ec8ffc47bd09.jpg\n",
            "/content/drive/MyDrive/hackathon/photoContent/summary/newData/city5/5eca58d33f854.jpg\n",
            "/content/drive/MyDrive/hackathon/photoContent/summary/newData/city5/5ec6824983c5c.jpg\n",
            "/content/drive/MyDrive/hackathon/photoContent/summary/newData/city5/5ec680d07335c.jpg\n",
            "/content/drive/MyDrive/hackathon/photoContent/summary/newData/city5/5ec79217d27f9.jpg\n",
            "/content/drive/MyDrive/hackathon/photoContent/summary/newData/city5/5ec8fd01981e5.jpg\n",
            "/content/drive/MyDrive/hackathon/photoContent/summary/newData/city5/5ec6808b698fe.jpg\n",
            "/content/drive/MyDrive/hackathon/photoContent/summary/newData/city5/5ec5252d666c9.jpg\n",
            "/content/drive/MyDrive/hackathon/photoContent/summary/newData/city5/5ec78d0630a52.jpg\n",
            "/content/drive/MyDrive/hackathon/photoContent/summary/newData/city5/5ec693ceef227.jpg\n",
            "/content/drive/MyDrive/hackathon/photoContent/summary/newData/city5/5ec68bd740f05.jpg\n",
            "/content/drive/MyDrive/hackathon/photoContent/summary/newData/city5/5ec8dfa90e0f6.jpg\n",
            "/content/drive/MyDrive/hackathon/photoContent/summary/newData/city10/5f2d6f69d6dff.jpg\n",
            "/content/drive/MyDrive/hackathon/photoContent/summary/newData/city10/5f2d5038221ab.jpg\n",
            "/content/drive/MyDrive/hackathon/photoContent/summary/newData/city10/5f2c0f8bed1c5.jpg\n",
            "/content/drive/MyDrive/hackathon/photoContent/summary/newData/city10/5f2d739acce1a.jpg\n",
            "/content/drive/MyDrive/hackathon/photoContent/summary/newData/city10/5f2d704a0ea2a.jpg\n",
            "/content/drive/MyDrive/hackathon/photoContent/summary/newData/city10/5f2d4edf0a366.jpg\n",
            "/content/drive/MyDrive/hackathon/photoContent/summary/newData/city10/5f2c0f80c7ab0.jpg\n",
            "/content/drive/MyDrive/hackathon/photoContent/summary/newData/city10/60af9589bf526.jpg\n",
            "/content/drive/MyDrive/hackathon/photoContent/summary/newData/city10/6099356b08fc1.jpg\n",
            "/content/drive/MyDrive/hackathon/photoContent/summary/newData/city10/6099579254292.jpg\n",
            "/content/drive/MyDrive/hackathon/photoContent/summary/newData/city10/608eb8293d902.jpg\n",
            "/content/drive/MyDrive/hackathon/photoContent/summary/newData/city10/609fe4ba5da9d.jpg\n",
            "/content/drive/MyDrive/hackathon/photoContent/summary/newData/city10/609a9d5090869.jpg\n",
            "/content/drive/MyDrive/hackathon/photoContent/summary/newData/city10/609534ea2a8ff.jpg\n",
            "/content/drive/MyDrive/hackathon/photoContent/summary/newData/city10/5f7b17002bca9.jpg\n",
            "/content/drive/MyDrive/hackathon/photoContent/summary/newData/city10/5f5a0939ab469.jpg\n",
            "/content/drive/MyDrive/hackathon/photoContent/summary/newData/city10/5f5a24d4b6d4a.jpg\n",
            "/content/drive/MyDrive/hackathon/photoContent/summary/newData/city10/5f7b1a5fd3ee3.jpg\n",
            "/content/drive/MyDrive/hackathon/photoContent/summary/newData/city10/60a7c41490a30.jpg\n",
            "/content/drive/MyDrive/hackathon/photoContent/summary/newData/city10/5f5a1450df5a3.jpg\n",
            "/content/drive/MyDrive/hackathon/photoContent/summary/newData/city10/60a3cc9da2075.jpg\n",
            "/content/drive/MyDrive/hackathon/photoContent/summary/newData/city10/5f5a45682c269.jpg\n",
            "/content/drive/MyDrive/hackathon/photoContent/summary/newData/city10/5f5b73bc5cc0b.jpg\n",
            "/content/drive/MyDrive/hackathon/photoContent/summary/newData/city10/5f05e64d0dcfc.jpg\n",
            "/content/drive/MyDrive/hackathon/photoContent/summary/newData/city10/5f5a1d24aa37c.jpg\n",
            "/content/drive/MyDrive/hackathon/photoContent/summary/newData/city10/5f6c8cbb70f27.jpg\n",
            "/content/drive/MyDrive/hackathon/photoContent/summary/newData/city10/5f5a3d79238c2.jpg\n",
            "/content/drive/MyDrive/hackathon/photoContent/summary/newData/city10/5f4bc95375625.jpg\n",
            "/content/drive/MyDrive/hackathon/photoContent/summary/newData/city10/5f4f9e44dca13.jpg\n",
            "/content/drive/MyDrive/hackathon/photoContent/summary/newData/city10/5f4df69829217.jpg\n",
            "/content/drive/MyDrive/hackathon/photoContent/summary/newData/city10/5f4f9a05576b0.jpg\n",
            "/content/drive/MyDrive/hackathon/photoContent/summary/newData/city10/5f4e48877cb0a.jpg\n",
            "/content/drive/MyDrive/hackathon/photoContent/summary/newData/city10/5f3e85ac25a78.jpg\n",
            "/content/drive/MyDrive/hackathon/photoContent/summary/newData/city10/5f3d3a871fae5.jpg\n",
            "/content/drive/MyDrive/hackathon/photoContent/summary/newData/city10/5f3e69798d3b1.jpg\n",
            "/content/drive/MyDrive/hackathon/photoContent/summary/newData/city10/5f3fb870b7e4c.jpg\n",
            "/content/drive/MyDrive/hackathon/photoContent/summary/newData/city10/5f3bf66fa9763.jpg\n",
            "/content/drive/MyDrive/hackathon/photoContent/summary/newData/city10/5f4ce5e5687a3.jpg\n",
            "/content/drive/MyDrive/hackathon/photoContent/summary/newData/city10/5f3bf9458f0f4.jpg\n",
            "/content/drive/MyDrive/hackathon/photoContent/summary/newData/city10/5f2d70406043e.jpg\n",
            "/content/drive/MyDrive/hackathon/photoContent/summary/newData/city10/5f3a7eacc6a32.jpg\n",
            "/content/drive/MyDrive/hackathon/photoContent/summary/newData/city10/5f3d2a706d064.jpg\n",
            "/content/drive/MyDrive/hackathon/photoContent/summary/newData/city10/5f3bd8ef9375c.jpg\n",
            "/content/drive/MyDrive/hackathon/photoContent/summary/newData/city10/5f2d6a71ee667.jpg\n",
            "/content/drive/MyDrive/hackathon/photoContent/summary/newData/city10/5f2d4f36813ca.jpg\n",
            "/content/drive/MyDrive/hackathon/photoContent/summary/newData/city10/5f3bd3bd27a73.jpg\n",
            "/content/drive/MyDrive/hackathon/photoContent/summary/newData/city9/5f1ee0f349d28.jpg\n",
            "/content/drive/MyDrive/hackathon/photoContent/summary/newData/city9/5f2af19a7abae.jpg\n",
            "/content/drive/MyDrive/hackathon/photoContent/summary/newData/city9/5f0ff69be9239.jpg\n",
            "/content/drive/MyDrive/hackathon/photoContent/summary/newData/city9/5f01ec1ad5270.jpg\n",
            "/content/drive/MyDrive/hackathon/photoContent/summary/newData/city9/5f1dc18fcd0c2.jpg\n",
            "/content/drive/MyDrive/hackathon/photoContent/summary/newData/city9/5f1c49788d4d7.jpg\n",
            "/content/drive/MyDrive/hackathon/photoContent/summary/newData/city9/5f1c494a7d92c.jpg\n",
            "/content/drive/MyDrive/hackathon/photoContent/summary/newData/city9/5f1c4cfd35733.jpg\n",
            "/content/drive/MyDrive/hackathon/photoContent/summary/newData/city9/5f1c0b5f568a6.jpg\n",
            "/content/drive/MyDrive/hackathon/photoContent/summary/newData/city9/5f0d8166d4edb.jpg\n",
            "/content/drive/MyDrive/hackathon/photoContent/summary/newData/city9/5f0b28c710cd1.jpg\n",
            "/content/drive/MyDrive/hackathon/photoContent/summary/newData/city9/5f1c4964ccdb2.jpg\n",
            "/content/drive/MyDrive/hackathon/photoContent/summary/newData/city9/5f0f00d310a69.jpg\n",
            "/content/drive/MyDrive/hackathon/photoContent/summary/newData/city9/5f0f15fc1741b.jpg\n",
            "/content/drive/MyDrive/hackathon/photoContent/summary/newData/city9/5f0d833953fbe.jpg\n",
            "/content/drive/MyDrive/hackathon/photoContent/summary/newData/city9/5f0ea1df7bd1f.jpg\n",
            "/content/drive/MyDrive/hackathon/photoContent/summary/newData/city9/5f0db14a9421a.jpg\n",
            "/content/drive/MyDrive/hackathon/photoContent/summary/newData/city9/5f0f307057d5b.jpg\n",
            "/content/drive/MyDrive/hackathon/photoContent/summary/newData/city9/5f0ef0409faf2.jpg\n",
            "/content/drive/MyDrive/hackathon/photoContent/summary/newData/city9/5f0c611198fb0.jpg\n",
            "{'city2': [('tattelecom', 21)], 'city1': [('tattelecom', 22), ('mts', 1)], 'city4': [('mts', 5), ('tattelecom', 17), ('rostelecom', 3)], 'city3': [('tattelecom', 19), ('mts', 2)], 'city8': [('dom_ru', 10), ('beeline', 7), ('kgs', 3), ('mts', 1)], 'city7': [('mts', 2), ('tatais', 15), ('beeline', 3), ('interdol', 3), ('tattelecom', 1)], 'city6': [('tatais', 1), ('mts', 6), ('beeline', 6), ('rostelecom', 9)], 'city5': [('rostelecom', 5), ('beeline', 7), ('mts', 28), ('interdol', 1)], 'city10': [('beeline', 11), ('dom_ru', 17), ('kgs', 11), ('tatais', 4), ('mts', 1)], 'city9': [('kgs', 7), ('interdol', 2), ('mts', 2), ('dom_ru', 5), ('beeline', 4), ('tatais', 1)]}\n"
          ],
          "name": "stdout"
        }
      ]
    },
    {
      "cell_type": "code",
      "metadata": {
        "id": "fXxqYbLFzKvQ"
      },
      "source": [
        "path = \"/content/drive/MyDrive/hackathon/photoContent/summary/data\"\n",
        "data = loadData(path)\n",
        "# print(data)\n",
        "processDict = processData(data)\n",
        "print(processDict)\n",
        "saveDictionary(processDict)"
      ],
      "execution_count": null,
      "outputs": []
    },
    {
      "cell_type": "code",
      "metadata": {
        "id": "Ljb4EeDOu7NM"
      },
      "source": [
        "path = \"/content/drive/MyDrive/hackathon/photoContent/summary/data\"\n",
        "data = loadData(path)\n",
        "print(data)\n",
        "processDict = processData(data)\n",
        "print(processDict)\n",
        "saveDictionary(processDict)"
      ],
      "execution_count": null,
      "outputs": []
    },
    {
      "cell_type": "code",
      "metadata": {
        "colab": {
          "base_uri": "https://localhost:8080/"
        },
        "id": "pJfqgZAHF-0S",
        "outputId": "571db442-2c9b-4473-8269-f9e140581c16"
      },
      "source": [
        "!pip install SpeechRecognition"
      ],
      "execution_count": null,
      "outputs": [
        {
          "output_type": "stream",
          "text": [
            "Collecting SpeechRecognition\n",
            "\u001b[?25l  Downloading https://files.pythonhosted.org/packages/26/e1/7f5678cd94ec1234269d23756dbdaa4c8cfaed973412f88ae8adf7893a50/SpeechRecognition-3.8.1-py2.py3-none-any.whl (32.8MB)\n",
            "\u001b[K     |████████████████████████████████| 32.8MB 85kB/s \n",
            "\u001b[?25hInstalling collected packages: SpeechRecognition\n",
            "Successfully installed SpeechRecognition-3.8.1\n"
          ],
          "name": "stdout"
        }
      ]
    },
    {
      "cell_type": "code",
      "metadata": {
        "colab": {
          "base_uri": "https://localhost:8080/",
          "height": 35
        },
        "id": "vf4UHwNJGUP4",
        "outputId": "e26bfc47-095c-47fe-dba1-e440ade61ece"
      },
      "source": [
        "import speech_recognition as sr\n",
        "sr.__version__"
      ],
      "execution_count": null,
      "outputs": [
        {
          "output_type": "execute_result",
          "data": {
            "application/vnd.google.colaboratory.intrinsic+json": {
              "type": "string"
            },
            "text/plain": [
              "'3.8.1'"
            ]
          },
          "metadata": {
            "tags": []
          },
          "execution_count": 16
        }
      ]
    },
    {
      "cell_type": "code",
      "metadata": {
        "id": "Art6kHLkGWzn"
      },
      "source": [
        "r = sr.Recognizer()"
      ],
      "execution_count": null,
      "outputs": []
    },
    {
      "cell_type": "code",
      "metadata": {
        "id": "I4T_PUrtHQr1"
      },
      "source": [
        "goodWordsstr = \"Доброе утро__Добрый день__Добрый вечер__Здравствуйте__Меня зовут__Как могу к вам обращаться__Чем могу вам помочь__Пожалуйста оставайтесь на линии__Мне понадобится несколько минут__Спасибо за ожидание__Спасибо__Пожалуйста__У вас остались вопросы__Буду рад(а) оценке моей консультации__Всего доброго__До свидания__Приношу извинения от лица компании__Я уточнил (а) информацию __Пожалуйста, назовите ваш лицевой счет, адрес, либо логин__Подскажите, на кого оформлены услуги?__Услуги на кого зарегистрированы?__Услуги не работают по причине задолженности, которая составляет … рублей__По информации, которую вы озвучили услуги не найдены. Вы можете предоставить другие данные?__На данный момент на вашем адресе зарегистрирована аварийная ситуация, в связи с чем услуги не доступны. Наши специалисты уже занимаются разрешением данной ситуации. Приносим извинения от лица компании за доставленные неудобства.__Проверьте, пожалуйста, заработал ли интернет?__В данный момент соединение на роутере есть, проблема связана с тем устройством, через которое вы пытаетесь выйти в интернет.__Подключение к интернету осуществляется через роутер или напрямую через компьютер?__Для проверки работоспособности необходимо чтобы вы находились у оборудования. Прошу вас перезвонить, когда будете находится дома.__Нужно быть рядом с оборудованием__Отключите кабель питания из розетки на несколько секунд и снова включите.__Вы можете сейчас перезагрузить ваш роутер?__У вас имеется карта с логином и паролем от интернета?__Логин и пароль являются конфиденциальной информацией. Мы можем отправить их по СМС, но вам нужно будет назвать ФИО, серию и номер паспорта владельца услуги.__Паспортные данные ваши можете назвать?__Данные которые вы продиктовали не совпадают с теми, которые есть у нас. Может быть вы меняли паспорт с момента заключения договора? Если да, то на последних страницах есть сведения о раннее выданных паспортах.__Для дальнейшей консультации соединяю вас с инженером. Оставайтесь, пожалуйста, на линии!__Не кладите трубку, соединяю вас с инженером__Возможно, сбились настройки на вашем вайфай роутере. У вас есть возможность подключить кабель напрямую к компьютеру?__В таком случае могу предложить оформить заявку, чтобы наши специалисты приехали и проверили в чем дело. Хочу так же сказать, что если дело в настройках роутера, то его настройка будет стоить 390 рублей. Заранее специалист вас предупредит, если работы будут платными.__Скажите, пожалуйста, у вас не показывают часть каналов или все?__С какими каналами у вас возникла проблема?__Вы можете сейчас зайти в настройки телевизора и произвести автопоиск каналов следуя моим инструкциям?__Данный канал вещается в цифровом формате. Для его просмотра ваш телевизор должен поддерживать стандарт DVB-C mpg4__Данный канал вещается на платной основе, для его просмотра вам необходимо приобрести приставку и подключить дополнительный пакет.__Нам известно, что с каналом … имеется проблема. Ответственные специалисты уже занимаются ей, работы завершаться в ближайшее время.__В таком случае могу предложить оформить заявку, чтобы наши специалисты приехали и проверили в чем дело.__Заявку оформил(а) на ...(дата), в период с ... по ... часов. Так же предупреждаю, что часть работ, проводимых в квартире может быть платной, о чем заранее специалист вас предупредит. На руки специалисту платить ничего не нужно, счет за работы придет в квитанции в следующем месяце.__Подскажите, на карантине никого у вас нет?__Обещанный платеж вам подключили сроком до …, в течении 5 дней вам необходимо внести платеж в размере … рублей.__Обещанный платеж активируется самостоятельно в личном кабинете на нашем сайте, либо в мобильном приложении. При необходимости могу вас проконсультировать как это сделать.__Какой интернет не работает – мобильный или домашний?__Через вай-фай подключаетесь?__Подключения нет ни на одном устройстве?__Роутер Таттелеком или сторонний?__Роутер пробовали перезагружать?__Давайте вместе попробуем перезагрузить роутер.__Значок 3G, 4G, LTE или E на телефоне отражается?__Вы можете сейчас перезагрузить ваш роутер?__Никакие приложения на телефоне не открываются? Через браузер интернет проверяли?__У вас закончился трафик для раздачи, могу предложить докупить гб именно для раздачи.__Вы можете подключить обещанный платеж самостоятельно, набрав ussd запрос на своем телефоне.__Я могу сейчас подключить вам обещанный платеж, но в будущем вы можете сами подключать по мере необходимости.__Давайте сверим адрес доставки квитанции.__Квитанция первый раз не пришла?__Вы можете получить квитанцию в офисе продаж.__Есть ли у вас возможность оплатить онлайн?__Давайте я вам назову сумму задолженности, и вы оплатите по старой квитанции.__Оплата к нам может поступить в течение трех дней при оплате через отделение почты.__Вы можете оформить обещанный платеж в личном кабинете.__Подскажите, все каналы не работают или только какой-то определенный?__Автопоиск каналов пробовали сделать?__Попробуйте вытащить и подключить кабель. Появилось изображение?__Какая информация отображается на экране?__Уточняет, есть ли кто-то на карантине и что часть работ может быть платной.__Подскажите, все каналы не работают или только какой-то определенный?__Автопоиск каналов пробовали сделать?__Попробуйте вытащить и подключить кабель. Появилось изображение?__Какая информация отображается на экране?__В таком случае я могу оформить заявку на выезд специалиста.__Подскажите адрес, куда переезжаете.__Проверила техническую возможность, можно перенести ваши услуги на новый адрес, стоимость переноса 1 услуги 10 рублей.__Обращаю ваше внимание, что у вас изменится метод расчета на авансовый …__Какие услуги вы хотите приостановить?__На какой период хотите сделать приостановку?__У вас комплексный тариф, мы можем приостановить только обе услуги, одну не получится, т.к. услуги между собой связаны, у вас один лицевой счет.__Приостановку можем сделать на 3 месяца и в случае необходимости мы можем продлить.__Стоимость услуги приостановки в комплексном тарифе 50 рублей в месяц за каждую услугу.__Приставку и роутер пробовали перезагружать?__Звука нет по всем каналам?__Звук если на пульте прибавлять, то на телевизоре отражается, что звук прибавляется?__Пожалуйста, вытащите кабель и снова вставьте. Проверьте, плотно ли кабель входит в разъём.__Настройки APN проверяли?__На кого сим-карта зарегистрирована?__Точка доступа у вас прописана?__Тип сети какой у вас выбран?__Шкала у вас полная на экране?__Где территориально вы находитесь в данный момент?__Ранее сеть ловила по данному адресу?__Телефон пробовали перезагружать?__Я отправил вам настройки, которые необходимо прописать\"\n",
        "goodWordsList = goodWordsstr.split(\"__\")"
      ],
      "execution_count": null,
      "outputs": []
    },
    {
      "cell_type": "code",
      "metadata": {
        "id": "x-CZBb0rIjN5"
      },
      "source": [
        "badWordsStr = \"Подождите__Уважаемый абонент__Не ложьте трубку__Трубочка__Звоночек__Ожидайте__Ждите__Послушайте__Ну__Как бы__Минуточка__Секундочка__Алло__Я не знаю__Я не могу сказать__Ненормативная лексика,__Жаргонизмы__Сленг__Оскорбительные и ругательные слова __Слушайте меня__Я вам говорю __Cимка__Я вам повторяю\"\n",
        "badWordsList = badWordsStr.split(\"__\")"
      ],
      "execution_count": null,
      "outputs": []
    },
    {
      "cell_type": "code",
      "metadata": {
        "colab": {
          "base_uri": "https://localhost:8080/"
        },
        "id": "U2EAkqnqIZ-Z",
        "outputId": "bdd36c18-7c0a-4b9e-e859-90071e857328"
      },
      "source": [
        "len(goodWordsList), len(badWordsList)"
      ],
      "execution_count": null,
      "outputs": [
        {
          "output_type": "execute_result",
          "data": {
            "text/plain": [
              "(100, 23)"
            ]
          },
          "metadata": {
            "tags": []
          },
          "execution_count": 24
        }
      ]
    },
    {
      "cell_type": "code",
      "metadata": {
        "id": "40C2cv2kGYjT"
      },
      "source": [
        "harvard = sr.AudioFile('file1.wav')\n",
        "with harvard as source:\n",
        "  audio = r.record(source)"
      ],
      "execution_count": null,
      "outputs": []
    },
    {
      "cell_type": "code",
      "metadata": {
        "id": "yKZM0X7_Kmu1"
      },
      "source": [
        "import speech_recognition as sr\n",
        "\n",
        "def processAudio(filepath):\n",
        "    textfromaudio = \"\"\n",
        "    # use the audio file as the audio source\n",
        "    r = sr.Recognizer()\n",
        "    with sr.AudioFile(filepath) as source:\n",
        "        audio = r.record(source)  # read the entire audio file \n",
        "    try:\n",
        "      # text = r.recognize_google(audio, language = 'en-IN', show_all = True )\n",
        "      textfromaudio = r.recognize_google(audio, language=\"ru-RU\")\n",
        "    finally:\n",
        "      print(textfromaudio)\n",
        "            \n",
        "    # # recognize speech using Houndify\n",
        "    # HOUNDIFY_CLIENT_ID = \"a-pDsOeNGUHjMXhxubzswA==\"  # Houndify client IDs are Base64-encoded strings\n",
        "    # HOUNDIFY_CLIENT_KEY = \"TCw5v76LtRDFNlkLyXk6s7gMxLhd5GYml_a4qIJ_AncdO4VP4OwzNvO_NuCkqwTVKmS7SXYyUR3Zz-_7P6W1KA==\"  # Houndify client keys are Base64-encoded strings\n",
        "    # try:\n",
        "    #     print(\"Houndify thinks you said \" + r.recognize_houndify(audio, client_id=HOUNDIFY_CLIENT_ID, client_key=HOUNDIFY_CLIENT_KEY))\n",
        "    # except sr.UnknownValueError:\n",
        "    #     print(\"Houndify could not understand audio\")\n",
        "    # except sr.RequestError as e:\n",
        "    #     print(\"Could not request results from Houndify service; {0}\".format(e))    \n",
        "    return textfromaudio\n"
      ],
      "execution_count": null,
      "outputs": []
    },
    {
      "cell_type": "code",
      "metadata": {
        "id": "jG8s1AnTJAZt"
      },
      "source": [
        "def loadfiles(folderpath):\n",
        "  i=0\n",
        "  texts = []\n",
        "  # Getting the current work directory (cwd)\n",
        "  thisdir = folderpath\n",
        "\n",
        "  # r=root, d=directories, f = files\n",
        "  for r, d, f in os.walk(thisdir):\n",
        "      for file in f:\n",
        "          if file.endswith(\".wav\"):\n",
        "              i+=1\n",
        "              if i>8:\n",
        "                texts.append(loadFile(os.path.join(r, file)))\n",
        "  return texts\n",
        "\n",
        "def loadFile(path):\n",
        "    audio = processAudio(path)\n",
        "    if audio:\n",
        "      return str(audio)\n",
        "    else:\n",
        "      return \"\"\n",
        "\n",
        "texts = loadfiles(\"/content/drive/MyDrive/hackathon/call_center\")"
      ],
      "execution_count": null,
      "outputs": []
    },
    {
      "cell_type": "code",
      "metadata": {
        "id": "3F2kJIB_JEcm"
      },
      "source": [
        "def loadfiles(folderpath):\n",
        "  i=0\n",
        "  texts = []\n",
        "  # Getting the current work directory (cwd)\n",
        "  thisdir = folderpath\n",
        "\n",
        "  # r=root, d=directories, f = files\n",
        "  for r, d, f in os.walk(thisdir):\n",
        "      for file in f:\n",
        "          print(i)\n",
        "          if file.endswith(\".wav\"):\n",
        "              i+=1\n",
        "              if i>8:\n",
        "                texts.append(loadFile(os.path.join(r, file)))\n",
        "  return texts\n",
        "\n",
        "def loadFile(path):\n",
        "    audio = processAudio(path)\n",
        "    if audio:\n",
        "      return str(audio)\n",
        "    else:\n",
        "      return \"\"\n",
        "\n",
        "texts = loadfiles(\"/content/drive/MyDrive/hackathon/call_center\")"
      ],
      "execution_count": null,
      "outputs": []
    },
    {
      "cell_type": "code",
      "metadata": {
        "id": "6UhBeQmtJYlx"
      },
      "source": [
        "texts = [\"\"\"Доброе утро Меня зовут Азат каким углом прячется\"\"\",\"\"\"\n",
        "Добрый день Меня зовут Оксана прощаться Вечер добрый Буинск вас беспокоит Татарстан короче красавица Слушай 26 заплатили за Да за интернет Ну домашний короче да Короче у нас у меня работает лицевой счёт могу сказать так вот это задолженность 362 руб а почему Откуда она пришла 20:00 525 Мы через через qr-код заплатили 525 руб у вас получается 26 числа 26 февраля выплатили за январь Да за январь воплотили у вас метод расчёта сейчас авансовой поэтому феврале Вы должны были оплатить за январь и февраль поэтому у вас задолженность Почему как устали занимались Ура как это за 2 месяцев Потому что сейчас метод расчета авансового расчета авансовых нужно платить за январь и за февраль феврале А уже в феврале за Март с авансом Что за нововведение такие вы где через Сбербанк через онлайн Сбербанк за \"\"\",\"\"\"\n",
        "Здравствуйте меня зовут Артур как я могу к вам обращаться Привет У меня интернет пропал что звонил вам девушка разговаривал только домашний или мобильный мобильный номер из которого решается до 9394 роутер с sim-картой выключали всё правильно понимаю телефон Да я там папа н Internet letai ru портал у меня им стоит Таттелеком интернет летай настройки проверяли пожалуйста восходящая сходящаяся работают да я звонил а вот входящий Я не знаю не проверял звонит мне никто не звонил я обычно другого звоню таком случае sim-карту ваш передам техническим специалистам они проверят на сервисе вашу sim-карту завтра должна будет заработать приносим извинения за предоставленные вам неудобства А этот А я звоню Святая Так ну да ну то есть по поводу интернета то что он не работал одно но рождения пользовался таком случае ожидать только нужно будет завтра проверят завтра должна будет уже заработать автоматическом режиме А этот эсэмэска ничего не придётся завтра проверять да Да Завтра с утра Можете уже проверять А ну всё хорошо ладно ещё вопрос имеется Да нет Мне вот Интернет просто нужно в таком случае если больше вопросов у вас нет всего вам доброго до свидания \"\"\",\"\"\"\n",
        "Яхтенная 9 настоящий как я могу к вам обращаться в сухом походу скорее всего на кого оформлен договор по этому адресу Что за кнопка вы Нажали на роутере правильно вводите настройки проверили трубку пожалуйста сейчас не Кладите на линии оставайтесь с ними соединён Всего доброго Вам До свидания \"\"\",\"\"\"\n",
        "Добрый день народ к кому обращаться Здравствуйте я хотел поинтересоваться с таким вопросом я закинул деньги на лицевой счёт и он буквально вот 15 числа а мне вот сейчас на звонок поступил типа то что не забудьте закинуть денег на свой лицевой счёт можно проехать Там они дошли не дошли продиктуйте хорошего а пойми адресом 395 руб сегодня поступила сегодня поступило Да сегодня прошла сегодня буквально вот не забудь выкинуть денег до 21 числа Всего доброго до свидания\"\"\",\"\"\"\n",
        "Здравствуйте меня зовут Амир как могу к вам обращаться телевизор плохо показывает сдачу Адрес какой там всего 58 каналов сейчас это не показывает только камень абонента Сколько надо говорить О а раньше там много было сейчас где-то 58 или 60 Там где смотреть фото рисунок слона предоставляется вам примерно 60 телеканалов и если телевизор современный поддерживает формат dvb-c MPEG4 то доступные цифровые каналы раньше они вас показывали верно показан тому назад нет сигнала появилось поисковикам всего 57 каналов\"\"\",\"\"\"\n",
        "сообщение Настасья как я могу к вам обращаться я оплатил 25 февраля 650 руб до этого я ездил на Ершова по-моему Да Тариф менять если отключать там мне сказали переключаться на другой тариф Только надо будет оплатить за февраль месяц 650 руб и последующий месяц 350 старик повлияет какое-то сейчас у меня интернета нет сегодня с утра мы его нету так хорошо что соединяет сильно потому что вас здесь не поступил оплата последняя оплата у вас было 25.02 получается феврале 650 руб воплотили это оплату вошла за за январь Простите а сейчас как вы поменяли тарифный план вам нужно оплатить в абонентскую плату которая была начислена в феврале сейчас это 515 руб Плюс нужно будет оплатить услуги по вашему новому тарифного плана за Март только после этого услуги вас будут активны это получается заплатил как так получилось у нас оплата идёт на месяц назад в январе в оплачивали за декабрь в декабре за ноябрь в ноябре за октябрь и так далее То есть на месяц назад вас оплата идёт вот сейчас когда вы оплатили в январе это было за декабрь феврале Когда вы оплатили 25 числа это у вас было за январь сейчас вам нужно оплатить за февраль 515 руб Плюс нужно оплатить ваш новый тарифный план это получается 174 руб интернета у вас идёт вот надо будет оплатить вот этот новый тариф нужно оплатить сразу 900 руб. сказали когда я прошел туда не знаю почему вам не сказали здесь у вас работали вам нужно оплатить 900 руб и соответственно у вас оплачивается этой суммы февраль то что было начислено феврале Эта сумма оплачивается Март следующие оплата вы будете вносить в конце марта за за апрель в конце апреля домой в конце мая до июне так далее У вас теперь будет идти Вот так с авансом оплата\"\"\",\"\"\"\n",
        "Добрый день Меня зовут Искандар как могу обращаться к вам здравствуйте Гульназ значит и wi-fi не работает или собачка же есть там красный горит Со вчерашнего дня пожалуйста так не работает интернет диалог А как давно уже со вчерашнего вечером приехали Да нет хорошо Пока не включается пожалуйста Спасибо большое\"\"\"]"
      ],
      "execution_count": null,
      "outputs": []
    },
    {
      "cell_type": "code",
      "metadata": {
        "id": "JTZyHPXXdQgk"
      },
      "source": [
        "texts"
      ],
      "execution_count": null,
      "outputs": []
    },
    {
      "cell_type": "code",
      "metadata": {
        "id": "8OEsqRGCe4PP"
      },
      "source": [
        "def findword(text, st):\n",
        "  if st in text:\n",
        "    return True\n",
        "\n",
        "ll = []\n",
        "\n",
        "for text in texts:\n",
        "  goodtimes = 0 \n",
        "  badtimes = 0 \n",
        "  for i in goodWordsList:\n",
        "    if findword(text, i):\n",
        "      goodtimes+=1\n",
        "  for i in badWordsList:\n",
        "    if findword(text, i):\n",
        "      badtimes+=1\n",
        "  ll.append(((goodtimes,goodtimes/len(goodWordsList)),(badtimes,badtimes/len(badWordsList))))\n",
        "\n",
        "\n"
      ],
      "execution_count": null,
      "outputs": []
    },
    {
      "cell_type": "code",
      "metadata": {
        "colab": {
          "base_uri": "https://localhost:8080/"
        },
        "id": "NTJ_wlR1i1EA",
        "outputId": "431fbfab-2e11-49f6-b7b0-c2e30a35326a"
      },
      "source": [
        "print(texts)\n",
        "print(ll)"
      ],
      "execution_count": null,
      "outputs": [
        {
          "output_type": "stream",
          "text": [
            "['Доброе утро Меня зовут Азат каким углом прячется', '\\nДобрый день Меня зовут Оксана прощаться Вечер добрый Буинск вас беспокоит Татарстан короче красавица Слушай 26 заплатили за Да за интернет Ну домашний короче да Короче у нас у меня работает лицевой счёт могу сказать так вот это задолженность 362 руб а почему Откуда она пришла 20:00 525 Мы через через qr-код заплатили 525 руб у вас получается 26 числа 26 февраля выплатили за январь Да за январь воплотили у вас метод расчёта сейчас авансовой поэтому феврале Вы должны были оплатить за январь и февраль поэтому у вас задолженность Почему как устали занимались Ура как это за 2 месяцев Потому что сейчас метод расчета авансового расчета авансовых нужно платить за январь и за февраль феврале А уже в феврале за Март с авансом Что за нововведение такие вы где через Сбербанк через онлайн Сбербанк за ', '\\nЗдравствуйте меня зовут Артур как я могу к вам обращаться Привет У меня интернет пропал что звонил вам девушка разговаривал только домашний или мобильный мобильный номер из которого решается до 9394 роутер с sim-картой выключали всё правильно понимаю телефон Да я там папа н Internet letai ru портал у меня им стоит Таттелеком интернет летай настройки проверяли пожалуйста восходящая сходящаяся работают да я звонил а вот входящий Я не знаю не проверял звонит мне никто не звонил я обычно другого звоню таком случае sim-карту ваш передам техническим специалистам они проверят на сервисе вашу sim-карту завтра должна будет заработать приносим извинения за предоставленные вам неудобства А этот А я звоню Святая Так ну да ну то есть по поводу интернета то что он не работал одно но рождения пользовался таком случае ожидать только нужно будет завтра проверят завтра должна будет уже заработать автоматическом режиме А этот эсэмэска ничего не придётся завтра проверять да Да Завтра с утра Можете уже проверять А ну всё хорошо ладно ещё вопрос имеется Да нет Мне вот Интернет просто нужно в таком случае если больше вопросов у вас нет всего вам доброго до свидания ', '\\nЯхтенная 9 настоящий как я могу к вам обращаться в сухом походу скорее всего на кого оформлен договор по этому адресу Что за кнопка вы Нажали на роутере правильно вводите настройки проверили трубку пожалуйста сейчас не Кладите на линии оставайтесь с ними соединён Всего доброго Вам До свидания ', '\\nДобрый день народ к кому обращаться Здравствуйте я хотел поинтересоваться с таким вопросом я закинул деньги на лицевой счёт и он буквально вот 15 числа а мне вот сейчас на звонок поступил типа то что не забудьте закинуть денег на свой лицевой счёт можно проехать Там они дошли не дошли продиктуйте хорошего а пойми адресом 395 руб сегодня поступила сегодня поступило Да сегодня прошла сегодня буквально вот не забудь выкинуть денег до 21 числа Всего доброго до свидания', '\\nЗдравствуйте меня зовут Амир как могу к вам обращаться телевизор плохо показывает сдачу Адрес какой там всего 58 каналов сейчас это не показывает только камень абонента Сколько надо говорить О а раньше там много было сейчас где-то 58 или 60 Там где смотреть фото рисунок слона предоставляется вам примерно 60 телеканалов и если телевизор современный поддерживает формат dvb-c MPEG4 то доступные цифровые каналы раньше они вас показывали верно показан тому назад нет сигнала появилось поисковикам всего 57 каналов', '\\nсообщение Настасья как я могу к вам обращаться я оплатил 25 февраля 650 руб до этого я ездил на Ершова по-моему Да Тариф менять если отключать там мне сказали переключаться на другой тариф Только надо будет оплатить за февраль месяц 650 руб и последующий месяц 350 старик повлияет какое-то сейчас у меня интернета нет сегодня с утра мы его нету так хорошо что соединяет сильно потому что вас здесь не поступил оплата последняя оплата у вас было 25.02 получается феврале 650 руб воплотили это оплату вошла за за январь Простите а сейчас как вы поменяли тарифный план вам нужно оплатить в абонентскую плату которая была начислена в феврале сейчас это 515 руб Плюс нужно будет оплатить услуги по вашему новому тарифного плана за Март только после этого услуги вас будут активны это получается заплатил как так получилось у нас оплата идёт на месяц назад в январе в оплачивали за декабрь в декабре за ноябрь в ноябре за октябрь и так далее То есть на месяц назад вас оплата идёт вот сейчас когда вы оплатили в январе это было за декабрь феврале Когда вы оплатили 25 числа это у вас было за январь сейчас вам нужно оплатить за февраль 515 руб Плюс нужно оплатить ваш новый тарифный план это получается 174 руб интернета у вас идёт вот надо будет оплатить вот этот новый тариф нужно оплатить сразу 900 руб. сказали когда я прошел туда не знаю почему вам не сказали здесь у вас работали вам нужно оплатить 900 руб и соответственно у вас оплачивается этой суммы февраль то что было начислено феврале Эта сумма оплачивается Март следующие оплата вы будете вносить в конце марта за за апрель в конце апреля домой в конце мая до июне так далее У вас теперь будет идти Вот так с авансом оплата', '\\nДобрый день Меня зовут Искандар как могу обращаться к вам здравствуйте Гульназ значит и wi-fi не работает или собачка же есть там красный горит Со вчерашнего дня пожалуйста так не работает интернет диалог А как давно уже со вчерашнего вечером приехали Да нет хорошо Пока не включается пожалуйста Спасибо большое']\n",
            "[((2, 0.02), (0, 0.0)), ((2, 0.02), (1, 0.043478260869565216)), ((1, 0.01), (1, 0.043478260869565216)), ((2, 0.02), (0, 0.0)), ((3, 0.03), (0, 0.0)), ((1, 0.01), (0, 0.0)), ((0, 0.0), (0, 0.0)), ((3, 0.03), (0, 0.0))]\n"
          ],
          "name": "stdout"
        }
      ]
    },
    {
      "cell_type": "code",
      "metadata": {
        "id": "3Lga-Qr0U3Gr"
      },
      "source": [
        "import json\n",
        "dic = {'city2': [('tattelecom', 21)], 'city1': [('tattelecom', 22), ('mts', 1)], 'city4': [('mts', 5), ('tattelecom', 17), ('rostelecom', 3)], 'city3': [('tattelecom', 19), ('mts', 2)], 'city8': [('dom_ru', 10), ('beeline', 7), ('kgs', 3), ('mts', 1)], 'city7': [('mts', 2), ('tatais', 15), ('beeline', 3), ('interdol', 3), ('tattelecom', 1)], 'city6': [('tatais', 1), ('mts', 6), ('beeline', 6), ('rostelecom', 9)], 'city5': [('rostelecom', 5), ('beeline', 7), ('mts', 28), ('interdol', 1)], 'city10': [('beeline', 11), ('dom_ru', 17), ('kgs', 11), ('tatais', 4), ('mts', 1)], 'city9': [('kgs', 7), ('interdol', 2), ('mts', 2), ('dom_ru', 5), ('beeline', 4), ('tatais', 1)]}\n",
        "def saveDictionary(cities):\n",
        "  with open('report.json', 'w') as fp:\n",
        "      json.dump(cities, fp)\n",
        "\n",
        "saveDictionary(dic)"
      ],
      "execution_count": null,
      "outputs": []
    }
  ]
}